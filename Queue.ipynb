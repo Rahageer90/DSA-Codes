{
  "nbformat": 4,
  "nbformat_minor": 0,
  "metadata": {
    "colab": {
      "provenance": []
    },
    "kernelspec": {
      "name": "python3",
      "display_name": "Python 3"
    },
    "language_info": {
      "name": "python"
    }
  },
  "cells": [
    {
      "cell_type": "code",
      "execution_count": null,
      "metadata": {
        "id": "5U5tFb-1ylbt"
      },
      "outputs": [],
      "source": [
        "class Node:\n",
        "  def __init__(self,elem,next):\n",
        "    self.elem = elem\n",
        "    self.next = next"
      ]
    },
    {
      "cell_type": "code",
      "source": [
        "class Queue:\n",
        "  def __init__(self):\n",
        "    self.front = None\n",
        "    self.back = None\n",
        "  def enqueue(self,elem):\n",
        "    if self.front == None:\n",
        "      self.front = Node(elem,None)\n",
        "    else:\n",
        "      n = Node(elem, None)\n",
        "      self.back.next = n\n",
        "      self.back = self.back.next\n",
        "  def dequeue(self):\n",
        "    if self.front == None:\n",
        "      print('Queue Underflow Exception')\n",
        "    else:\n",
        "      dequeued_item = self.front.elem\n",
        "      self.front = self.front.next\n",
        "      return dequeued_item\n",
        "  def peek(self):\n",
        "    if self.front == None:\n",
        "      print('Queue Underflow Exception')\n",
        "    else:\n",
        "      return self.front.elem"
      ],
      "metadata": {
        "id": "vBV4xYODy-z4"
      },
      "execution_count": null,
      "outputs": []
    },
    {
      "cell_type": "code",
      "source": [
        "class Queue:\n",
        "  def __init__(self):\n",
        "    self.queue =[None]*10\n",
        "    self.front = 0\n",
        "    self.back = 0\n",
        "    self.size = 0\n",
        "  def enqueue(self,elem):\n",
        "    if self.size == len(self.queue):\n",
        "      print('Queue Overflow')\n",
        "    else:\n",
        "      self.queue[self.back] == elem\n",
        "      self.back = (self.back + 1) % len(self.queue)\n",
        "      self.size +=1\n",
        "  def dequeue(self):\n",
        "    if self.size == 0:\n",
        "      print('Queue Underflow')\n",
        "    else:\n",
        "      dequeued_item = self.queue[self.front]\n",
        "      self.queue[self.front] = None\n",
        "      self.front = self.front +1 % len(self.queue)\n",
        "      return dequeued_item\n",
        "  def peek(self):\n",
        "    if self.size == 0:\n",
        "      print('Queue Underflow')\n",
        "    else:\n",
        "      return self.queue[self.front]"
      ],
      "metadata": {
        "id": "Q49L22ZV3PxH"
      },
      "execution_count": null,
      "outputs": []
    }
  ]
}