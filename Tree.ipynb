{
  "nbformat": 4,
  "nbformat_minor": 0,
  "metadata": {
    "colab": {
      "provenance": []
    },
    "kernelspec": {
      "name": "python3",
      "display_name": "Python 3"
    },
    "language_info": {
      "name": "python"
    }
  },
  "cells": [
    {
      "cell_type": "code",
      "execution_count": null,
      "metadata": {
        "colab": {
          "base_uri": "https://localhost:8080/"
        },
        "id": "1M1cyDgXdrpw",
        "outputId": "d61d7de8-57fc-46a6-9c33-9c3af6c9b355"
      },
      "outputs": [
        {
          "output_type": "stream",
          "name": "stdout",
          "text": [
            "False\n",
            "[17, 4, 1, 9, 20, 18, 23, 34]\n",
            "[1, 4, 9, 17, 18, 20, 23, 34]\n",
            "[1, 9, 4, 18, 34, 23, 20, 17]\n",
            "34\n",
            "1\n",
            "3\n",
            "True\n"
          ]
        }
      ],
      "source": [
        "class BinarySearchTree:\n",
        "  def __init__(self,elem):\n",
        "    self.elem = elem\n",
        "    self.left = None\n",
        "    self.right = None\n",
        "  def add_child(self,elem):\n",
        "    if elem == self.elem:\n",
        "      return\n",
        "    if elem < self.elem:\n",
        "      if self.left:\n",
        "        self.left.add_child(elem)\n",
        "      else:\n",
        "        self.left = BinarySearchTree(elem)\n",
        "    else:\n",
        "      if self.right:\n",
        "        self.right.add_child(elem)\n",
        "      else:\n",
        "        self.right = BinarySearchTree(elem)\n",
        "  def in_order_traversal(self):\n",
        "    elements = []\n",
        "    if self.left:\n",
        "      elements += self.left.in_order_traversal()\n",
        "\n",
        "    elements.append(self.elem)\n",
        "    if self.right:\n",
        "      elements += self.right.in_order_traversal()\n",
        "\n",
        "    return elements\n",
        "  def search(self,val):\n",
        "    if self.elem == val:\n",
        "      return True\n",
        "    if val < self.elem:\n",
        "      if self.left:\n",
        "        return self.left.search(val)\n",
        "      else:\n",
        "        return False\n",
        "    if val > self.elem:\n",
        "      if self.right:\n",
        "        return self.right.search(val)\n",
        "      else:\n",
        "        return False\n",
        "  def pre_order_traversal(self):\n",
        "     #root-left-right\n",
        "     elements = [self.elem]\n",
        "     if self.left:\n",
        "       elements += self.left.pre_order_traversal()\n",
        "     if self.right:\n",
        "       elements += self.right.pre_order_traversal()\n",
        "     return elements\n",
        "  def post_order_traversal(self):\n",
        "    elements = []\n",
        "    if self.left:\n",
        "      elements += self.left.post_order_traversal()\n",
        "    if self.right:\n",
        "      elements += self.right.post_order_traversal()\n",
        "    elements.append(self.elem)\n",
        "    return elements\n",
        "  def find_min(self):\n",
        "    if self.left == None:\n",
        "      return self.elem\n",
        "    return self.left.find_min()\n",
        "  def find_max(self):\n",
        "    if self.right == None:\n",
        "      return self.elem\n",
        "    return self.right.find_max()\n",
        "  def height(self):\n",
        "    if self == None:\n",
        "      return 0\n",
        "    if self.left == None and self.right == None:\n",
        "      return 0\n",
        "    if self.left != None:\n",
        "      lcheck= self.left.height()\n",
        "    else:\n",
        "      lcheck = 0\n",
        "    if self.right != None:\n",
        "      rcheck = self.right.height()\n",
        "    else:\n",
        "      rcheck = 0\n",
        "\n",
        "    return 1 + max(lcheck,rcheck)\n",
        "  def is_balanced(self):\n",
        "    if self == None:\n",
        "      return True\n",
        "    lheight = self.left.height() if self.left != None else 0\n",
        "    rheight = self.right.height() if self.right != None else 0\n",
        "    if abs(lheight-rheight) > 1:\n",
        "      return False\n",
        "    if self.left != None:\n",
        "      lcheck = self.left.is_balanced()\n",
        "    else:\n",
        "      lcheck = True\n",
        "    if self.right != None:\n",
        "      rcheck = self.right.is_balanced()\n",
        "    else:\n",
        "      rcheck = True\n",
        "    if lcheck == True and rcheck == True:\n",
        "      return True\n",
        "\n",
        "\n",
        "\n",
        "\n",
        "\n",
        "\n",
        "def build_tree(elements):\n",
        "  root = BinarySearchTree(elements[0])\n",
        "  for i in range(1,len(elements)):\n",
        "    root.add_child(elements[i])\n",
        "  return root\n",
        "\n",
        "\n",
        "if __name__ == \"__main__\":\n",
        "  numbers = [17,4,1,20,9,23,18,34]\n",
        "  numbers_tree = build_tree(numbers)\n",
        "  print(numbers_tree.search(19))\n",
        "  print(numbers_tree.pre_order_traversal())\n",
        "  print(numbers_tree.in_order_traversal())\n",
        "  print(numbers_tree.post_order_traversal())\n",
        "  print(numbers_tree.find_max())\n",
        "  print(numbers_tree.find_min())\n",
        "  print(numbers_tree.height())\n",
        "  print(numbers_tree.is_balanced())"
      ]
    },
    {
      "cell_type": "code",
      "source": [
        "def is_identical(a,b):\n",
        "  if a is None and b is None:\n",
        "    return True\n",
        "  if a is None or b is None or a.data != b.data:\n",
        "    return False\n",
        "  return is_identical(a.left,b.left) and is_identical(a.right,b.right)\n"
      ],
      "metadata": {
        "id": "MjZZoONmNeuA"
      },
      "execution_count": null,
      "outputs": []
    },
    {
      "cell_type": "code",
      "source": [
        "def mirror(node):\n",
        "  if node == None:\n",
        "    return None\n",
        "  else:\n",
        "    temp = node.left\n",
        "    node.left = node.right\n",
        "    node.right = temp\n",
        "    mirror(node.left)\n",
        "    mirror(node.right)\n",
        "  return node\n",
        ""
      ],
      "metadata": {
        "id": "12Np4W7VOX2M"
      },
      "execution_count": null,
      "outputs": []
    },
    {
      "cell_type": "code",
      "source": [
        "def height(root):\n",
        "  if root == None:\n",
        "    return 0\n",
        "  return max(height(root.left) , height(root.right) + 1)"
      ],
      "metadata": {
        "id": "OkDh9qKVQlfm"
      },
      "execution_count": null,
      "outputs": []
    },
    {
      "cell_type": "code",
      "source": [
        "def is_balanced(root):\n",
        "  if root == None:\n",
        "    return True\n",
        "  else:\n",
        "    lh = height(root.left)\n",
        "    rh = height(root.right)\n",
        "    if abs(lh-rh) <= 1 and is_balanced(root.left) is True and is_balanced(root.right) is True:\n",
        "      return True\n",
        "  return False\n"
      ],
      "metadata": {
        "id": "vHGznjSpRZNb"
      },
      "execution_count": null,
      "outputs": []
    },
    {
      "cell_type": "code",
      "source": [
        "def isSumProperty(root):\n",
        "  if root == None or root.left == None and root.right == None:\n",
        "    return True\n",
        "  else:\n",
        "    left_data = 0\n",
        "    right_data = 0\n",
        "    if root.left is not None:\n",
        "      left_data = root.left.data\n",
        "    if root.right is not None:\n",
        "      right_data = root.right.data\n",
        "    if left_data + right_data == root.data and isSumProperty(root.left) and isSumProperty(root.right):\n",
        "      return True\n",
        "    else:\n",
        "      return False"
      ],
      "metadata": {
        "id": "rn8sUXa2Uodz"
      },
      "execution_count": null,
      "outputs": []
    },
    {
      "cell_type": "code",
      "source": [
        "def isbst(root):\n",
        "  def in_order_traversal(root):\n",
        "    if root is None:\n",
        "      return []\n",
        "    return in_order_traversal(root.left) + [root.data] + in_order_traversal(root.right)\n",
        "  lis = in_order_traversal(root)\n",
        "\n",
        "  for i in range(len(lis)-1):\n",
        "    if lis[i] <= lis[i+1] :\n",
        "      return True\n",
        "    else:\n",
        "      return False"
      ],
      "metadata": {
        "id": "_EF5m3fXbq6C"
      },
      "execution_count": null,
      "outputs": []
    },
    {
      "cell_type": "code",
      "source": [
        "# Inorder traversal\n",
        "def in_order_traversal(root):\n",
        "    if root is None:\n",
        "        return []\n",
        "    return in_order_traversal(root.left) + [root.data] + in_order_traversal(root.right)\n",
        "\n",
        "# Preorder traversal\n",
        "def pre_order_traversal(root):\n",
        "    if root is None:\n",
        "        return []\n",
        "    return [root.data] + pre_order_traversal(root.left) + pre_order_traversal(root.right)\n",
        "\n",
        "# Postorder traversal\n",
        "def post_order_traversal(root):\n",
        "    if root is None:\n",
        "        return []\n",
        "    return post_order_traversal(root.left) + post_order_traversal(root.right) + [root.data]\n"
      ],
      "metadata": {
        "id": "sAUtFlYIdfwr"
      },
      "execution_count": null,
      "outputs": []
    },
    {
      "cell_type": "code",
      "source": [
        "class Tree:\n",
        "  def __init__(self,data):\n",
        "    self.data = data\n",
        "    self.left = None\n",
        "    self.right = None\n",
        "\n",
        "def sortedArrayToBST(arr):\n",
        "  if arr is None:\n",
        "    return None\n",
        "  else:\n",
        "    mid =len(arr)//2\n",
        "    root = Tree(arr[mid])\n",
        "    root.left = sortedArrayToBST(arr[:mid])\n",
        "    root.right = sortedArrayToBST(arr[mid+1:])\n",
        "  return root\n"
      ],
      "metadata": {
        "id": "Y2GJLjPZeZEy"
      },
      "execution_count": null,
      "outputs": []
    }
  ]
}