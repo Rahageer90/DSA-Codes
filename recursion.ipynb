{
  "nbformat": 4,
  "nbformat_minor": 0,
  "metadata": {
    "colab": {
      "provenance": []
    },
    "kernelspec": {
      "name": "python3",
      "display_name": "Python 3"
    },
    "language_info": {
      "name": "python"
    }
  },
  "cells": [
    {
      "cell_type": "code",
      "execution_count": null,
      "metadata": {
        "colab": {
          "base_uri": "https://localhost:8080/"
        },
        "id": "KUUEmInIxCAm",
        "outputId": "9c30937d-0fdb-4809-db54-cb0b28311805"
      },
      "outputs": [
        {
          "output_type": "stream",
          "name": "stdout",
          "text": [
            "10\n"
          ]
        }
      ],
      "source": [
        "def sum_of_digits(n):\n",
        "  if n < 10:\n",
        "    return n\n",
        "  else:\n",
        "    return n%10 + sum_of_digits(n//10)\n",
        "\n",
        "print(sum_of_digits(1234))\n",
        "\n"
      ]
    },
    {
      "cell_type": "code",
      "source": [
        "def sumDigits(n):\n",
        "  if n < 10 :\n",
        "    return n\n",
        "  else:\n",
        "    return n%10 + sumDigits(n//10)\n",
        "print(sumDigits(126))"
      ],
      "metadata": {
        "colab": {
          "base_uri": "https://localhost:8080/"
        },
        "id": "ELfA7uUr_q7Y",
        "outputId": "450e3036-c513-4dd2-9b74-26322b40473a"
      },
      "execution_count": null,
      "outputs": [
        {
          "output_type": "stream",
          "name": "stdout",
          "text": [
            "9\n"
          ]
        }
      ]
    },
    {
      "cell_type": "code",
      "source": [
        "def bunnyEars(n):     #if even ears =3 and if odd ears = 2\n",
        "  if n==0:\n",
        "    return 0\n",
        "  if n%10 == 1:\n",
        "    return 2 + bunnyEars(n-1)\n",
        "  else:\n",
        "    return 3 + bunnyEars(n-1)\n",
        "print(bunnyEars(2))"
      ],
      "metadata": {
        "colab": {
          "base_uri": "https://localhost:8080/"
        },
        "id": "kxd7fy8zAO_x",
        "outputId": "fb978ead-24bd-4bb0-9db0-b54945fbf9cd"
      },
      "execution_count": null,
      "outputs": [
        {
          "output_type": "stream",
          "name": "stdout",
          "text": [
            "5\n"
          ]
        }
      ]
    },
    {
      "cell_type": "code",
      "source": [
        "def is_palindrome(s):\n",
        "    if len(s) <= 1:\n",
        "      return True\n",
        "    if s[0] == s[-1]:\n",
        "      return is_palindrome(s[1:-1])\n",
        "    else:\n",
        "      return False\n",
        "print(is_palindrome('hello'))\n",
        "print(is_palindrome('racecar'))\n",
        "\n"
      ],
      "metadata": {
        "colab": {
          "base_uri": "https://localhost:8080/"
        },
        "id": "fYWOyfn0yNdq",
        "outputId": "87de1f31-c5c5-4745-c3eb-71657aa31e33"
      },
      "execution_count": null,
      "outputs": [
        {
          "output_type": "stream",
          "name": "stdout",
          "text": [
            "False\n",
            "True\n"
          ]
        }
      ]
    },
    {
      "cell_type": "code",
      "source": [
        "def binary_search(lst,target,low,high):\n",
        "  if low <= high:\n",
        "    mid = (low + high) // 2\n",
        "    if lst[mid] == target:\n",
        "      return mid\n",
        "    elif target < lst[mid] :\n",
        "      return binary_search(lst,target,low,mid-1)\n",
        "    else:\n",
        "      return binary_search(lst,target,mid+1,high)\n",
        "  else:\n",
        "    return -1\n",
        "\n",
        "lis =[1,2,3,4,5,6,7,8,9]\n",
        "print(binary_search(lis,8,0,len(lis)-1))"
      ],
      "metadata": {
        "colab": {
          "base_uri": "https://localhost:8080/"
        },
        "id": "yzvsZhyY9X90",
        "outputId": "bfb655c4-8935-4b2a-c07e-4631c1096fad"
      },
      "execution_count": null,
      "outputs": [
        {
          "output_type": "stream",
          "name": "stdout",
          "text": [
            "7\n"
          ]
        }
      ]
    },
    {
      "cell_type": "code",
      "source": [
        "def bubble_sort(elem):\n",
        "  size = len(elem)\n",
        "  for j in range(size-1):\n",
        "    swapped = False\n",
        "    for i in range(size-1-j):\n",
        "      if elem[i] > elem[i+1]:\n",
        "        tmp = elem[i]\n",
        "        elem[i] = elem[i+1]\n",
        "        elem[i+1] = tmp\n",
        "        swapped = True\n",
        "    if swapped == False:\n",
        "      break\n",
        "\n",
        "if __name__ == '__main__':\n",
        "  elem = [5,9,2,1,67,34,88,34]\n",
        "  bubble_sort(elem)\n",
        "  print(elem)"
      ],
      "metadata": {
        "colab": {
          "base_uri": "https://localhost:8080/"
        },
        "id": "8_3Yejn3HdV4",
        "outputId": "086dc51e-f455-47c7-e0c4-a213d4cd5363"
      },
      "execution_count": null,
      "outputs": [
        {
          "output_type": "stream",
          "name": "stdout",
          "text": [
            "[1, 2, 5, 9, 34, 34, 67, 88]\n"
          ]
        }
      ]
    },
    {
      "cell_type": "code",
      "source": [
        "def count7(n):\n",
        "  if n < 10 :\n",
        "    if n == 7:\n",
        "      return 1\n",
        "    else:\n",
        "      return 0\n",
        "  else:\n",
        "    if n%10 == 7 :\n",
        "      return 1 + count7(n//10)\n",
        "    else:\n",
        "      return count7(n//10)\n",
        "\n",
        "print(count7(7277))"
      ],
      "metadata": {
        "colab": {
          "base_uri": "https://localhost:8080/"
        },
        "id": "2k6gxmWHCs78",
        "outputId": "26515df7-b00e-4764-cf84-4a02b45a5dcd"
      },
      "execution_count": null,
      "outputs": [
        {
          "output_type": "stream",
          "name": "stdout",
          "text": [
            "3\n"
          ]
        }
      ]
    },
    {
      "cell_type": "code",
      "source": [
        "def countX(s):\n",
        "  if len(s) == 1:\n",
        "    if s == 'x':\n",
        "      return 1\n",
        "    else:\n",
        "      return 0\n",
        "  else:\n",
        "    if s[len(s)-1] == 'x':\n",
        "      return 1 + countX(s[0:-1])\n",
        "    else:\n",
        "      return countX(s[0:-1])\n",
        "\n",
        "print(countX('xhixhix'))"
      ],
      "metadata": {
        "colab": {
          "base_uri": "https://localhost:8080/"
        },
        "id": "Xcds0ClDEsdG",
        "outputId": "5b4ec114-3499-4e04-d3f0-f06ae610602a"
      },
      "execution_count": null,
      "outputs": [
        {
          "output_type": "stream",
          "name": "stdout",
          "text": [
            "3\n"
          ]
        }
      ]
    }
  ]
}